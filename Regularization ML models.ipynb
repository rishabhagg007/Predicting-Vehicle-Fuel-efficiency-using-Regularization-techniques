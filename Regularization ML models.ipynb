{
 "cells": [
  {
   "cell_type": "markdown",
   "id": "2f9a9d23",
   "metadata": {},
   "source": [
    "# Predicting Vehicle Fuel Efficiency using Regularization Techniques\n"
   ]
  },
  {
   "cell_type": "code",
   "execution_count": 1,
   "id": "927b4f01",
   "metadata": {},
   "outputs": [],
   "source": [
    "#import the packages needed to perform the analysis\n",
    "import pandas as pd\n",
    "import os\n",
    "from sklearn.linear_model import LinearRegression\n",
    "import statsmodels.api as sm \n",
    "from sklearn.preprocessing import PolynomialFeatures\n",
    "import matplotlib.pyplot as plt\n",
    "import seaborn as sns\n",
    "sns.set()\n",
    "from sklearn.model_selection import train_test_split,GridSearchCV,RandomizedSearchCV\n",
    "from sklearn.linear_model import LinearRegression,Ridge,Lasso\n",
    "from sklearn.metrics import r2_score,mean_squared_error\n",
    "from sklearn import preprocessing"
   ]
  },
  {
   "cell_type": "markdown",
   "id": "e9c78fe3",
   "metadata": {},
   "source": [
    "# Loading the dataset"
   ]
  },
  {
   "cell_type": "code",
   "execution_count": 2,
   "id": "8733c6f0",
   "metadata": {},
   "outputs": [],
   "source": [
    "\n",
    "\n",
    "df=pd.read_csv(\"C:/Users/dell/Downloads/assignment4.csv\")"
   ]
  },
  {
   "cell_type": "code",
   "execution_count": 3,
   "id": "29eda8fe",
   "metadata": {},
   "outputs": [
    {
     "name": "stdout",
     "output_type": "stream",
     "text": [
      "<class 'pandas.core.frame.DataFrame'>\n",
      "RangeIndex: 398 entries, 0 to 397\n",
      "Data columns (total 9 columns):\n",
      " #   Column        Non-Null Count  Dtype  \n",
      "---  ------        --------------  -----  \n",
      " 0   Unnamed: 0    398 non-null    int64  \n",
      " 1   mpg           398 non-null    float64\n",
      " 2   cylinders     398 non-null    int64  \n",
      " 3   displacement  398 non-null    float64\n",
      " 4   horsepower    398 non-null    float64\n",
      " 5   weight        398 non-null    int64  \n",
      " 6   acceleration  398 non-null    float64\n",
      " 7   model year    398 non-null    int64  \n",
      " 8   origin        398 non-null    int64  \n",
      "dtypes: float64(4), int64(5)\n",
      "memory usage: 28.1 KB\n"
     ]
    }
   ],
   "source": [
    "df.info()"
   ]
  },
  {
   "cell_type": "code",
   "execution_count": 4,
   "id": "c59d32f7",
   "metadata": {},
   "outputs": [
    {
     "data": {
      "text/plain": [
       "Unnamed: 0      0\n",
       "mpg             0\n",
       "cylinders       0\n",
       "displacement    0\n",
       "horsepower      0\n",
       "weight          0\n",
       "acceleration    0\n",
       "model year      0\n",
       "origin          0\n",
       "dtype: int64"
      ]
     },
     "execution_count": 4,
     "metadata": {},
     "output_type": "execute_result"
    }
   ],
   "source": [
    "df.isnull().sum()"
   ]
  },
  {
   "cell_type": "code",
   "execution_count": 5,
   "id": "22541cc0",
   "metadata": {},
   "outputs": [
    {
     "data": {
      "text/plain": [
       "False"
      ]
     },
     "execution_count": 5,
     "metadata": {},
     "output_type": "execute_result"
    }
   ],
   "source": [
    "df.isnull().values.any()"
   ]
  },
  {
   "cell_type": "code",
   "execution_count": 6,
   "id": "a4387132",
   "metadata": {},
   "outputs": [
    {
     "data": {
      "text/plain": [
       "array([130. , 165. , 150. , 140. , 198. , 220. , 215. , 225. , 190. ,\n",
       "       170. , 160. ,  95. ,  97. ,  85. ,  88. ,  46. ,  87. ,  90. ,\n",
       "       113. , 200. , 210. , 193. ,  93.5, 100. , 105. , 175. , 153. ,\n",
       "       180. , 110. ,  72. ,  86. ,  70. ,  76. ,  65. ,  69. ,  60. ,\n",
       "        80. ,  54. , 208. , 155. , 112. ,  92. , 145. , 137. , 158. ,\n",
       "       167. ,  94. , 107. , 230. ,  49. ,  75. ,  91. , 122. ,  67. ,\n",
       "        83. ,  78. ,  52. ,  61. ,  93. , 148. , 129. ,  96. ,  71. ,\n",
       "        98. , 115. ,  53. ,  81. ,  79. , 120. , 152. , 102. , 108. ,\n",
       "        68. ,  58. , 149. ,  89. ,  63. ,  48. ,  66. , 139. , 103. ,\n",
       "       125. , 133. , 138. , 135. , 142. ,  77. ,  62. , 132. ,  84. ,\n",
       "        64. ,  74. , 116. ,  82. ])"
      ]
     },
     "execution_count": 6,
     "metadata": {},
     "output_type": "execute_result"
    }
   ],
   "source": [
    "df.horsepower.unique()"
   ]
  },
  {
   "cell_type": "code",
   "execution_count": 7,
   "id": "6d757d11",
   "metadata": {},
   "outputs": [
    {
     "name": "stdout",
     "output_type": "stream",
     "text": [
      "sum of duplicated values0\n",
      "\n"
     ]
    }
   ],
   "source": [
    "print('sum of duplicated values{}\\n'.format(df.duplicated().sum()))"
   ]
  },
  {
   "cell_type": "code",
   "execution_count": 8,
   "id": "8554b58a",
   "metadata": {},
   "outputs": [
    {
     "data": {
      "text/html": [
       "<div>\n",
       "<style scoped>\n",
       "    .dataframe tbody tr th:only-of-type {\n",
       "        vertical-align: middle;\n",
       "    }\n",
       "\n",
       "    .dataframe tbody tr th {\n",
       "        vertical-align: top;\n",
       "    }\n",
       "\n",
       "    .dataframe thead th {\n",
       "        text-align: right;\n",
       "    }\n",
       "</style>\n",
       "<table border=\"1\" class=\"dataframe\">\n",
       "  <thead>\n",
       "    <tr style=\"text-align: right;\">\n",
       "      <th></th>\n",
       "      <th>Unnamed: 0</th>\n",
       "      <th>mpg</th>\n",
       "      <th>cylinders</th>\n",
       "      <th>displacement</th>\n",
       "      <th>horsepower</th>\n",
       "      <th>weight</th>\n",
       "      <th>acceleration</th>\n",
       "      <th>model year</th>\n",
       "      <th>origin</th>\n",
       "    </tr>\n",
       "  </thead>\n",
       "  <tbody>\n",
       "    <tr>\n",
       "      <th>count</th>\n",
       "      <td>398.000000</td>\n",
       "      <td>398.000000</td>\n",
       "      <td>398.000000</td>\n",
       "      <td>398.000000</td>\n",
       "      <td>398.000000</td>\n",
       "      <td>398.000000</td>\n",
       "      <td>398.000000</td>\n",
       "      <td>398.000000</td>\n",
       "      <td>398.000000</td>\n",
       "    </tr>\n",
       "    <tr>\n",
       "      <th>mean</th>\n",
       "      <td>198.500000</td>\n",
       "      <td>23.514573</td>\n",
       "      <td>5.454774</td>\n",
       "      <td>193.425879</td>\n",
       "      <td>104.304020</td>\n",
       "      <td>2970.424623</td>\n",
       "      <td>15.568090</td>\n",
       "      <td>76.010050</td>\n",
       "      <td>1.572864</td>\n",
       "    </tr>\n",
       "    <tr>\n",
       "      <th>std</th>\n",
       "      <td>115.036951</td>\n",
       "      <td>7.815984</td>\n",
       "      <td>1.701004</td>\n",
       "      <td>104.269838</td>\n",
       "      <td>38.222625</td>\n",
       "      <td>846.841774</td>\n",
       "      <td>2.757689</td>\n",
       "      <td>3.697627</td>\n",
       "      <td>0.802055</td>\n",
       "    </tr>\n",
       "    <tr>\n",
       "      <th>min</th>\n",
       "      <td>0.000000</td>\n",
       "      <td>9.000000</td>\n",
       "      <td>3.000000</td>\n",
       "      <td>68.000000</td>\n",
       "      <td>46.000000</td>\n",
       "      <td>1613.000000</td>\n",
       "      <td>8.000000</td>\n",
       "      <td>70.000000</td>\n",
       "      <td>1.000000</td>\n",
       "    </tr>\n",
       "    <tr>\n",
       "      <th>25%</th>\n",
       "      <td>99.250000</td>\n",
       "      <td>17.500000</td>\n",
       "      <td>4.000000</td>\n",
       "      <td>104.250000</td>\n",
       "      <td>76.000000</td>\n",
       "      <td>2223.750000</td>\n",
       "      <td>13.825000</td>\n",
       "      <td>73.000000</td>\n",
       "      <td>1.000000</td>\n",
       "    </tr>\n",
       "    <tr>\n",
       "      <th>50%</th>\n",
       "      <td>198.500000</td>\n",
       "      <td>23.000000</td>\n",
       "      <td>4.000000</td>\n",
       "      <td>148.500000</td>\n",
       "      <td>93.500000</td>\n",
       "      <td>2803.500000</td>\n",
       "      <td>15.500000</td>\n",
       "      <td>76.000000</td>\n",
       "      <td>1.000000</td>\n",
       "    </tr>\n",
       "    <tr>\n",
       "      <th>75%</th>\n",
       "      <td>297.750000</td>\n",
       "      <td>29.000000</td>\n",
       "      <td>8.000000</td>\n",
       "      <td>262.000000</td>\n",
       "      <td>125.000000</td>\n",
       "      <td>3608.000000</td>\n",
       "      <td>17.175000</td>\n",
       "      <td>79.000000</td>\n",
       "      <td>2.000000</td>\n",
       "    </tr>\n",
       "    <tr>\n",
       "      <th>max</th>\n",
       "      <td>397.000000</td>\n",
       "      <td>46.600000</td>\n",
       "      <td>8.000000</td>\n",
       "      <td>455.000000</td>\n",
       "      <td>230.000000</td>\n",
       "      <td>5140.000000</td>\n",
       "      <td>24.800000</td>\n",
       "      <td>82.000000</td>\n",
       "      <td>3.000000</td>\n",
       "    </tr>\n",
       "  </tbody>\n",
       "</table>\n",
       "</div>"
      ],
      "text/plain": [
       "       Unnamed: 0         mpg   cylinders  displacement  horsepower  \\\n",
       "count  398.000000  398.000000  398.000000    398.000000  398.000000   \n",
       "mean   198.500000   23.514573    5.454774    193.425879  104.304020   \n",
       "std    115.036951    7.815984    1.701004    104.269838   38.222625   \n",
       "min      0.000000    9.000000    3.000000     68.000000   46.000000   \n",
       "25%     99.250000   17.500000    4.000000    104.250000   76.000000   \n",
       "50%    198.500000   23.000000    4.000000    148.500000   93.500000   \n",
       "75%    297.750000   29.000000    8.000000    262.000000  125.000000   \n",
       "max    397.000000   46.600000    8.000000    455.000000  230.000000   \n",
       "\n",
       "            weight  acceleration  model year      origin  \n",
       "count   398.000000    398.000000  398.000000  398.000000  \n",
       "mean   2970.424623     15.568090   76.010050    1.572864  \n",
       "std     846.841774      2.757689    3.697627    0.802055  \n",
       "min    1613.000000      8.000000   70.000000    1.000000  \n",
       "25%    2223.750000     13.825000   73.000000    1.000000  \n",
       "50%    2803.500000     15.500000   76.000000    1.000000  \n",
       "75%    3608.000000     17.175000   79.000000    2.000000  \n",
       "max    5140.000000     24.800000   82.000000    3.000000  "
      ]
     },
     "metadata": {},
     "output_type": "display_data"
    }
   ],
   "source": [
    "display(df.describe())"
   ]
  },
  {
   "cell_type": "code",
   "execution_count": 9,
   "id": "bcee7d91",
   "metadata": {},
   "outputs": [
    {
     "data": {
      "text/plain": [
       "(398, 9)"
      ]
     },
     "execution_count": 9,
     "metadata": {},
     "output_type": "execute_result"
    }
   ],
   "source": [
    "df.shape"
   ]
  },
  {
   "cell_type": "code",
   "execution_count": 10,
   "id": "406b2b2b",
   "metadata": {},
   "outputs": [
    {
     "data": {
      "text/plain": [
       "array([[<AxesSubplot:title={'center':'Unnamed: 0'}>,\n",
       "        <AxesSubplot:title={'center':'mpg'}>,\n",
       "        <AxesSubplot:title={'center':'cylinders'}>],\n",
       "       [<AxesSubplot:title={'center':'displacement'}>,\n",
       "        <AxesSubplot:title={'center':'horsepower'}>,\n",
       "        <AxesSubplot:title={'center':'weight'}>],\n",
       "       [<AxesSubplot:title={'center':'acceleration'}>,\n",
       "        <AxesSubplot:title={'center':'model year'}>,\n",
       "        <AxesSubplot:title={'center':'origin'}>]], dtype=object)"
      ]
     },
     "execution_count": 10,
     "metadata": {},
     "output_type": "execute_result"
    },
    {
     "data": {
      "image/png": "[encoded data removed]",
      "text/plain": [
       "<Figure size 864x576 with 9 Axes>"
      ]
     },
     "metadata": {},
     "output_type": "display_data"
    }
   ],
   "source": [
    "##Plotting histogram of all measures\n",
    "df.hist(figsize=(12,8),bins=20)"
   ]
  },
  {
   "cell_type": "code",
   "execution_count": 11,
   "id": "7579b5d8",
   "metadata": {},
   "outputs": [
    {
     "data": {
      "text/html": [
       "<div>\n",
       "<style scoped>\n",
       "    .dataframe tbody tr th:only-of-type {\n",
       "        vertical-align: middle;\n",
       "    }\n",
       "\n",
       "    .dataframe tbody tr th {\n",
       "        vertical-align: top;\n",
       "    }\n",
       "\n",
       "    .dataframe thead th {\n",
       "        text-align: right;\n",
       "    }\n",
       "</style>\n",
       "<table border=\"1\" class=\"dataframe\">\n",
       "  <thead>\n",
       "    <tr style=\"text-align: right;\">\n",
       "      <th></th>\n",
       "      <th>Unnamed: 0</th>\n",
       "      <th>mpg</th>\n",
       "      <th>cylinders</th>\n",
       "      <th>displacement</th>\n",
       "      <th>horsepower</th>\n",
       "      <th>weight</th>\n",
       "      <th>acceleration</th>\n",
       "      <th>model year</th>\n",
       "      <th>origin</th>\n",
       "    </tr>\n",
       "  </thead>\n",
       "  <tbody>\n",
       "    <tr>\n",
       "      <th>Unnamed: 0</th>\n",
       "      <td>1.000000</td>\n",
       "      <td>0.585131</td>\n",
       "      <td>-0.363040</td>\n",
       "      <td>-0.386976</td>\n",
       "      <td>-0.419873</td>\n",
       "      <td>-0.318869</td>\n",
       "      <td>0.287634</td>\n",
       "      <td>0.996800</td>\n",
       "      <td>0.199702</td>\n",
       "    </tr>\n",
       "    <tr>\n",
       "      <th>mpg</th>\n",
       "      <td>0.585131</td>\n",
       "      <td>1.000000</td>\n",
       "      <td>-0.775396</td>\n",
       "      <td>-0.804203</td>\n",
       "      <td>-0.773453</td>\n",
       "      <td>-0.831741</td>\n",
       "      <td>0.420289</td>\n",
       "      <td>0.579267</td>\n",
       "      <td>0.563450</td>\n",
       "    </tr>\n",
       "    <tr>\n",
       "      <th>cylinders</th>\n",
       "      <td>-0.363040</td>\n",
       "      <td>-0.775396</td>\n",
       "      <td>1.000000</td>\n",
       "      <td>0.950721</td>\n",
       "      <td>0.841284</td>\n",
       "      <td>0.896017</td>\n",
       "      <td>-0.505419</td>\n",
       "      <td>-0.348746</td>\n",
       "      <td>-0.562543</td>\n",
       "    </tr>\n",
       "    <tr>\n",
       "      <th>displacement</th>\n",
       "      <td>-0.386976</td>\n",
       "      <td>-0.804203</td>\n",
       "      <td>0.950721</td>\n",
       "      <td>1.000000</td>\n",
       "      <td>0.895778</td>\n",
       "      <td>0.932824</td>\n",
       "      <td>-0.543684</td>\n",
       "      <td>-0.370164</td>\n",
       "      <td>-0.609409</td>\n",
       "    </tr>\n",
       "    <tr>\n",
       "      <th>horsepower</th>\n",
       "      <td>-0.419873</td>\n",
       "      <td>-0.773453</td>\n",
       "      <td>0.841284</td>\n",
       "      <td>0.895778</td>\n",
       "      <td>1.000000</td>\n",
       "      <td>0.862442</td>\n",
       "      <td>-0.686590</td>\n",
       "      <td>-0.413733</td>\n",
       "      <td>-0.452096</td>\n",
       "    </tr>\n",
       "    <tr>\n",
       "      <th>weight</th>\n",
       "      <td>-0.318869</td>\n",
       "      <td>-0.831741</td>\n",
       "      <td>0.896017</td>\n",
       "      <td>0.932824</td>\n",
       "      <td>0.862442</td>\n",
       "      <td>1.000000</td>\n",
       "      <td>-0.417457</td>\n",
       "      <td>-0.306564</td>\n",
       "      <td>-0.581024</td>\n",
       "    </tr>\n",
       "    <tr>\n",
       "      <th>acceleration</th>\n",
       "      <td>0.287634</td>\n",
       "      <td>0.420289</td>\n",
       "      <td>-0.505419</td>\n",
       "      <td>-0.543684</td>\n",
       "      <td>-0.686590</td>\n",
       "      <td>-0.417457</td>\n",
       "      <td>1.000000</td>\n",
       "      <td>0.288137</td>\n",
       "      <td>0.205873</td>\n",
       "    </tr>\n",
       "    <tr>\n",
       "      <th>model year</th>\n",
       "      <td>0.996800</td>\n",
       "      <td>0.579267</td>\n",
       "      <td>-0.348746</td>\n",
       "      <td>-0.370164</td>\n",
       "      <td>-0.413733</td>\n",
       "      <td>-0.306564</td>\n",
       "      <td>0.288137</td>\n",
       "      <td>1.000000</td>\n",
       "      <td>0.180662</td>\n",
       "    </tr>\n",
       "    <tr>\n",
       "      <th>origin</th>\n",
       "      <td>0.199702</td>\n",
       "      <td>0.563450</td>\n",
       "      <td>-0.562543</td>\n",
       "      <td>-0.609409</td>\n",
       "      <td>-0.452096</td>\n",
       "      <td>-0.581024</td>\n",
       "      <td>0.205873</td>\n",
       "      <td>0.180662</td>\n",
       "      <td>1.000000</td>\n",
       "    </tr>\n",
       "  </tbody>\n",
       "</table>\n",
       "</div>"
      ],
      "text/plain": [
       "              Unnamed: 0       mpg  cylinders  displacement  horsepower  \\\n",
       "Unnamed: 0      1.000000  0.585131  -0.363040     -0.386976   -0.419873   \n",
       "mpg             0.585131  1.000000  -0.775396     -0.804203   -0.773453   \n",
       "cylinders      -0.363040 -0.775396   1.000000      0.950721    0.841284   \n",
       "displacement   -0.386976 -0.804203   0.950721      1.000000    0.895778   \n",
       "horsepower     -0.419873 -0.773453   0.841284      0.895778    1.000000   \n",
       "weight         -0.318869 -0.831741   0.896017      0.932824    0.862442   \n",
       "acceleration    0.287634  0.420289  -0.505419     -0.543684   -0.686590   \n",
       "model year      0.996800  0.579267  -0.348746     -0.370164   -0.413733   \n",
       "origin          0.199702  0.563450  -0.562543     -0.609409   -0.452096   \n",
       "\n",
       "                weight  acceleration  model year    origin  \n",
       "Unnamed: 0   -0.318869      0.287634    0.996800  0.199702  \n",
       "mpg          -0.831741      0.420289    0.579267  0.563450  \n",
       "cylinders     0.896017     -0.505419   -0.348746 -0.562543  \n",
       "displacement  0.932824     -0.543684   -0.370164 -0.609409  \n",
       "horsepower    0.862442     -0.686590   -0.413733 -0.452096  \n",
       "weight        1.000000     -0.417457   -0.306564 -0.581024  \n",
       "acceleration -0.417457      1.000000    0.288137  0.205873  \n",
       "model year   -0.306564      0.288137    1.000000  0.180662  \n",
       "origin       -0.581024      0.205873    0.180662  1.000000  "
      ]
     },
     "execution_count": 11,
     "metadata": {},
     "output_type": "execute_result"
    }
   ],
   "source": [
    "##Checking correlation among variables\n",
    "df.corr()"
   ]
  },
  {
   "cell_type": "code",
   "execution_count": 12,
   "id": "398ce4f6",
   "metadata": {},
   "outputs": [
    {
     "data": {
      "image/png": "[encoded data removed]",
      "text/plain": [
       "<Figure size 720x432 with 2 Axes>"
      ]
     },
     "metadata": {},
     "output_type": "display_data"
    }
   ],
   "source": [
    "#Creating heatmap for correaltion among variables\n",
    "plt.figure(figsize=(10,6))\n",
    "sns.heatmap(df.corr(),cmap=plt.cm.Reds,annot=True)\n",
    "plt.title('Heatmap displaying the relationship between\\nthe features of the data',\n",
    "         fontsize=13)\n",
    "plt.show()"
   ]
  },
  {
   "cell_type": "code",
   "execution_count": 13,
   "id": "6ad626f1",
   "metadata": {},
   "outputs": [
    {
     "name": "stderr",
     "output_type": "stream",
     "text": [
      "C:\\Users\\dell\\anaconda3\\lib\\site-packages\\statsmodels\\tsa\\tsatools.py:142: FutureWarning: In a future version of pandas all arguments of concat except for the argument 'objs' will be keyword-only\n",
      "  x = pd.concat(x[::order], 1)\n"
     ]
    }
   ],
   "source": [
    "###Checking VIF for all measures\n",
    "from statsmodels.stats.outliers_influence import variance_inflation_factor\n",
    "X1 = sm.tools.add_constant(df)\n",
    "# calculate the VIF and make the results a series.\n",
    "series1 = pd.Series([variance_inflation_factor(X1.values,i) for i in range(X1.shape[1])],index=X1.columns)"
   ]
  },
  {
   "cell_type": "code",
   "execution_count": 14,
   "id": "bb8d41c8",
   "metadata": {},
   "outputs": [
    {
     "name": "stdout",
     "output_type": "stream",
     "text": [
      "const           64666.619706\n",
      "Unnamed: 0        181.654517\n",
      "mpg                 5.609732\n",
      "cylinders          10.794099\n",
      "displacement       23.513463\n",
      "horsepower          9.607494\n",
      "weight             13.605644\n",
      "acceleration        2.568417\n",
      "model year        182.076626\n",
      "origin              1.881431\n",
      "dtype: float64\n"
     ]
    }
   ],
   "source": [
    "print(series1)"
   ]
  },
  {
   "cell_type": "code",
   "execution_count": 15,
   "id": "52eb2db0",
   "metadata": {},
   "outputs": [],
   "source": [
    "#Since VIF for displacement and weight is quite high , hence dropping the from the data set.\n",
    "newcars = df.drop(['displacement','weight'],axis=1)"
   ]
  },
  {
   "cell_type": "code",
   "execution_count": 16,
   "id": "da705224",
   "metadata": {},
   "outputs": [
    {
     "name": "stdout",
     "output_type": "stream",
     "text": [
      "Series after feature selection: \n",
      "\n",
      "const           60855.547040\n",
      "Unnamed: 0        171.753688\n",
      "mpg                 4.380298\n",
      "cylinders           4.497089\n",
      "horsepower          5.967404\n",
      "acceleration        2.063755\n",
      "model year        172.611027\n",
      "origin              1.694488\n",
      "dtype: float64\n"
     ]
    }
   ],
   "source": [
    "##Checking VIF after removing variables.\n",
    "X2 = sm.tools.add_constant(newcars)\n",
    "series2 = pd.Series([variance_inflation_factor(X2.values,i) for i in range(X2.shape[1])],index=X2.columns)\n",
    "print('Series after feature selection: \\n\\n{}'.format(series2))"
   ]
  },
  {
   "cell_type": "code",
   "execution_count": 17,
   "id": "1881c043",
   "metadata": {},
   "outputs": [],
   "source": [
    "##Independent data variables\n",
    "X = newcars.drop('mpg',axis=1)"
   ]
  },
  {
   "cell_type": "code",
   "execution_count": 19,
   "id": "5a222f29",
   "metadata": {},
   "outputs": [],
   "source": [
    "#Response variable\n",
    "y = newcars.mpg  "
   ]
  },
  {
   "cell_type": "code",
   "execution_count": 20,
   "id": "32c83c9d",
   "metadata": {},
   "outputs": [],
   "source": [
    "##Scaling the variables to same standards.\n",
    "X_scaled = preprocessing.scale(X)"
   ]
  },
  {
   "cell_type": "code",
   "execution_count": 21,
   "id": "3c7c7dfb",
   "metadata": {},
   "outputs": [],
   "source": [
    "X_scaled = pd.DataFrame(X_scaled,columns=X.columns)"
   ]
  },
  {
   "cell_type": "markdown",
   "id": "983147af",
   "metadata": {},
   "source": [
    "# Lasso Regression Model"
   ]
  },
  {
   "cell_type": "code",
   "execution_count": 22,
   "id": "404a38e4",
   "metadata": {},
   "outputs": [],
   "source": [
    "#Splitting the data set into 20% train and 80% test data\n",
    "X_train,X_test,y_train,y_test = train_test_split(X,y,test_size=.8,random_state=0)"
   ]
  },
  {
   "cell_type": "code",
   "execution_count": 23,
   "id": "eac17752",
   "metadata": {},
   "outputs": [
    {
     "data": {
      "text/plain": [
       "Lasso(alpha=1)"
      ]
     },
     "execution_count": 23,
     "metadata": {},
     "output_type": "execute_result"
    }
   ],
   "source": [
    "#Running Model 1 with 20% training data\n",
    "from sklearn.linear_model import Lasso\n",
    "\n",
    "Model_20_Q1 = Lasso(alpha=1)\n",
    "Model_20_Q1.fit(X_train, y_train)"
   ]
  },
  {
   "cell_type": "code",
   "execution_count": 24,
   "id": "3c69bbe4",
   "metadata": {},
   "outputs": [
    {
     "name": "stdout",
     "output_type": "stream",
     "text": [
      "R squared training set 75.86\n",
      "R squared test set 69.21\n"
     ]
    }
   ],
   "source": [
    "print('R squared training set', round(Model_20_Q1.score(X_train, y_train)*100, 2))\n",
    "print('R squared test set', round(Model_20_Q1.score(X_test, y_test)*100, 2))"
   ]
  },
  {
   "cell_type": "code",
   "execution_count": 25,
   "id": "d7d2a744",
   "metadata": {},
   "outputs": [],
   "source": [
    "#Splitting the data set into 80% train and 20% test data\n",
    "X2_train,X2_test,y2_train,y2_test = train_test_split(X,y,test_size=.2,random_state=0)"
   ]
  },
  {
   "cell_type": "code",
   "execution_count": 26,
   "id": "01bc978d",
   "metadata": {},
   "outputs": [
    {
     "data": {
      "text/plain": [
       "Lasso(alpha=1)"
      ]
     },
     "execution_count": 26,
     "metadata": {},
     "output_type": "execute_result"
    }
   ],
   "source": [
    "#Running Model 2 with 80% training data\n",
    "Model_80_Q1 = Lasso(alpha=1)\n",
    "Model_80_Q1.fit(X2_train, y2_train)"
   ]
  },
  {
   "cell_type": "code",
   "execution_count": 27,
   "id": "961823bb",
   "metadata": {},
   "outputs": [
    {
     "name": "stdout",
     "output_type": "stream",
     "text": [
      "R squared training set 73.03\n",
      "R squared test set 67.54\n"
     ]
    }
   ],
   "source": [
    "print('R squared training set', round(Model_80_Q1.score(X2_train, y2_train)*100, 2))\n",
    "print('R squared test set', round(Model_80_Q1.score(X2_test, y2_test)*100, 2))"
   ]
  },
  {
   "cell_type": "markdown",
   "id": "84b144a3",
   "metadata": {},
   "source": [
    "# Evaluating AIC/BIC scores for Lasso Regression"
   ]
  },
  {
   "cell_type": "code",
   "execution_count": 34,
   "id": "7bec20d2",
   "metadata": {},
   "outputs": [],
   "source": [
    "\n",
    "\n",
    "import time\n",
    "from sklearn.preprocessing import StandardScaler\n",
    "from sklearn.linear_model import LassoLarsIC\n",
    "from sklearn.pipeline import make_pipeline"
   ]
  },
  {
   "cell_type": "code",
   "execution_count": 35,
   "id": "43b0f787",
   "metadata": {},
   "outputs": [],
   "source": [
    "##For fist model with 20% training data,finding optimal value of alpha using AIC criterion\n",
    "start_time = time.time()\n",
    "lasso_lars_ic = make_pipeline(\n",
    "    StandardScaler(), LassoLarsIC(criterion=\"aic\", normalize=False)\n",
    ").fit(X_train, y_train)\n",
    "fit_time = time.time() - start_time"
   ]
  },
  {
   "cell_type": "code",
   "execution_count": 36,
   "id": "3bb02d3f",
   "metadata": {},
   "outputs": [],
   "source": [
    "results = pd.DataFrame(\n",
    "    {\n",
    "        \"alphas\": lasso_lars_ic[-1].alphas_,\n",
    "        \"AIC criterion\": lasso_lars_ic[-1].criterion_,\n",
    "    }\n",
    ").set_index(\"alphas\")\n",
    "alpha_aic = lasso_lars_ic[-1].alpha_"
   ]
  },
  {
   "cell_type": "code",
   "execution_count": 37,
   "id": "2374c0d0",
   "metadata": {},
   "outputs": [
    {
     "data": {
      "text/html": [
       "<div>\n",
       "<style scoped>\n",
       "    .dataframe tbody tr th:only-of-type {\n",
       "        vertical-align: middle;\n",
       "    }\n",
       "\n",
       "    .dataframe tbody tr th {\n",
       "        vertical-align: top;\n",
       "    }\n",
       "\n",
       "    .dataframe thead th {\n",
       "        text-align: right;\n",
       "    }\n",
       "</style>\n",
       "<table border=\"1\" class=\"dataframe\">\n",
       "  <thead>\n",
       "    <tr style=\"text-align: right;\">\n",
       "      <th></th>\n",
       "      <th>AIC criterion</th>\n",
       "    </tr>\n",
       "    <tr>\n",
       "      <th>alphas</th>\n",
       "      <th></th>\n",
       "    </tr>\n",
       "  </thead>\n",
       "  <tbody>\n",
       "    <tr>\n",
       "      <th>6.144859</th>\n",
       "      <td>79.000000</td>\n",
       "    </tr>\n",
       "    <tr>\n",
       "      <th>3.870579</th>\n",
       "      <td>48.603039</td>\n",
       "    </tr>\n",
       "    <tr>\n",
       "      <th>2.807737</th>\n",
       "      <td>39.583444</td>\n",
       "    </tr>\n",
       "    <tr>\n",
       "      <th>2.693495</th>\n",
       "      <td>40.226437</td>\n",
       "    </tr>\n",
       "    <tr>\n",
       "      <th>0.028017</th>\n",
       "      <td>23.776324</td>\n",
       "    </tr>\n",
       "    <tr>\n",
       "      <th>0.018456</th>\n",
       "      <td>25.385216</td>\n",
       "    </tr>\n",
       "    <tr>\n",
       "      <th>0.000000</th>\n",
       "      <td>27.083117</td>\n",
       "    </tr>\n",
       "  </tbody>\n",
       "</table>\n",
       "</div>"
      ],
      "text/plain": [
       "          AIC criterion\n",
       "alphas                 \n",
       "6.144859      79.000000\n",
       "3.870579      48.603039\n",
       "2.807737      39.583444\n",
       "2.693495      40.226437\n",
       "0.028017      23.776324\n",
       "0.018456      25.385216\n",
       "0.000000      27.083117"
      ]
     },
     "execution_count": 37,
     "metadata": {},
     "output_type": "execute_result"
    }
   ],
   "source": [
    "results\n"
   ]
  },
  {
   "cell_type": "code",
   "execution_count": 38,
   "id": "ffeafbcd",
   "metadata": {},
   "outputs": [
    {
     "data": {
      "text/plain": [
       "0.028017365280154995"
      ]
     },
     "execution_count": 38,
     "metadata": {},
     "output_type": "execute_result"
    }
   ],
   "source": [
    "##Selected Value of alpha for model1 using AIC criteria is\n",
    "alpha_aic"
   ]
  },
  {
   "cell_type": "code",
   "execution_count": 39,
   "id": "f163fb93",
   "metadata": {},
   "outputs": [
    {
     "name": "stdout",
     "output_type": "stream",
     "text": [
      "R squared training set 80.88\n",
      "R squared test set 73.48\n"
     ]
    },
    {
     "name": "stderr",
     "output_type": "stream",
     "text": [
      "C:\\Users\\dell\\anaconda3\\lib\\site-packages\\sklearn\\linear_model\\_coordinate_descent.py:530: ConvergenceWarning: Objective did not converge. You might want to increase the number of iterations. Duality gap: 41.244359045513534, tolerance: 0.4387971898734177\n",
      "  model = cd_fast.enet_coordinate_descent(\n"
     ]
    }
   ],
   "source": [
    "#Running Lasso model using selected  alpha value selected by AIC criteria\n",
    "Model_Q2_20 = Lasso(alpha=0.028)\n",
    "Model_Q2_20.fit(X_train, y_train)\n",
    "print('R squared training set', round(Model_Q2_20.score(X_train, y_train)*100, 2))\n",
    "print('R squared test set', round(Model_Q2_20.score(X_test, y_test)*100, 2))"
   ]
  },
  {
   "cell_type": "code",
   "execution_count": 40,
   "id": "da2c66db",
   "metadata": {},
   "outputs": [],
   "source": [
    "###Finding Optimal value of alpha using BIC criteria for model 1 with 20% training data\n",
    "\n",
    "lasso_lars_ic.set_params(lassolarsic__criterion=\"bic\").fit(X_train, y_train)\n",
    "results[\"BIC criterion\"] = lasso_lars_ic[-1].criterion_\n",
    "alpha_bic = lasso_lars_ic[-1].alpha_"
   ]
  },
  {
   "cell_type": "code",
   "execution_count": 41,
   "id": "ae0e019a",
   "metadata": {},
   "outputs": [
    {
     "data": {
      "text/plain": [
       "0.028017365280154995"
      ]
     },
     "execution_count": 41,
     "metadata": {},
     "output_type": "execute_result"
    }
   ],
   "source": [
    "alpha_bic"
   ]
  },
  {
   "cell_type": "code",
   "execution_count": 42,
   "id": "32a9fbde",
   "metadata": {},
   "outputs": [
    {
     "data": {
      "text/html": [
       "<style type=\"text/css\">\n",
       "#T_58b0a_row4_col0, #T_58b0a_row4_col1 {\n",
       "  font-weight: bold;\n",
       "}\n",
       "</style>\n",
       "<table id=\"T_58b0a_\">\n",
       "  <thead>\n",
       "    <tr>\n",
       "      <th class=\"blank level0\" >&nbsp;</th>\n",
       "      <th class=\"col_heading level0 col0\" >AIC criterion</th>\n",
       "      <th class=\"col_heading level0 col1\" >BIC criterion</th>\n",
       "    </tr>\n",
       "    <tr>\n",
       "      <th class=\"index_name level0\" >alphas</th>\n",
       "      <th class=\"blank col0\" >&nbsp;</th>\n",
       "      <th class=\"blank col1\" >&nbsp;</th>\n",
       "    </tr>\n",
       "  </thead>\n",
       "  <tbody>\n",
       "    <tr>\n",
       "      <th id=\"T_58b0a_level0_row0\" class=\"row_heading level0 row0\" >6.144859047515174</th>\n",
       "      <td id=\"T_58b0a_row0_col0\" class=\"data row0 col0\" >79.000000</td>\n",
       "      <td id=\"T_58b0a_row0_col1\" class=\"data row0 col1\" >79.000000</td>\n",
       "    </tr>\n",
       "    <tr>\n",
       "      <th id=\"T_58b0a_level0_row1\" class=\"row_heading level0 row1\" >3.870578716888742</th>\n",
       "      <td id=\"T_58b0a_row1_col0\" class=\"data row1 col0\" >48.603039</td>\n",
       "      <td id=\"T_58b0a_row1_col1\" class=\"data row1 col1\" >50.972487</td>\n",
       "    </tr>\n",
       "    <tr>\n",
       "      <th id=\"T_58b0a_level0_row2\" class=\"row_heading level0 row2\" >2.807736748844429</th>\n",
       "      <td id=\"T_58b0a_row2_col0\" class=\"data row2 col0\" >39.583444</td>\n",
       "      <td id=\"T_58b0a_row2_col1\" class=\"data row2 col1\" >44.322339</td>\n",
       "    </tr>\n",
       "    <tr>\n",
       "      <th id=\"T_58b0a_level0_row3\" class=\"row_heading level0 row3\" >2.6934954503537507</th>\n",
       "      <td id=\"T_58b0a_row3_col0\" class=\"data row3 col0\" >40.226437</td>\n",
       "      <td id=\"T_58b0a_row3_col1\" class=\"data row3 col1\" >47.334780</td>\n",
       "    </tr>\n",
       "    <tr>\n",
       "      <th id=\"T_58b0a_level0_row4\" class=\"row_heading level0 row4\" >0.028017365280154995</th>\n",
       "      <td id=\"T_58b0a_row4_col0\" class=\"data row4 col0\" >23.776324</td>\n",
       "      <td id=\"T_58b0a_row4_col1\" class=\"data row4 col1\" >33.254115</td>\n",
       "    </tr>\n",
       "    <tr>\n",
       "      <th id=\"T_58b0a_level0_row5\" class=\"row_heading level0 row5\" >0.018455840349221046</th>\n",
       "      <td id=\"T_58b0a_row5_col0\" class=\"data row5 col0\" >25.385216</td>\n",
       "      <td id=\"T_58b0a_row5_col1\" class=\"data row5 col1\" >37.232455</td>\n",
       "    </tr>\n",
       "    <tr>\n",
       "      <th id=\"T_58b0a_level0_row6\" class=\"row_heading level0 row6\" >0.0</th>\n",
       "      <td id=\"T_58b0a_row6_col0\" class=\"data row6 col0\" >27.083117</td>\n",
       "      <td id=\"T_58b0a_row6_col1\" class=\"data row6 col1\" >41.299804</td>\n",
       "    </tr>\n",
       "  </tbody>\n",
       "</table>\n"
      ],
      "text/plain": [
       "<pandas.io.formats.style.Styler at 0x1d345b77ac0>"
      ]
     },
     "execution_count": 42,
     "metadata": {},
     "output_type": "execute_result"
    }
   ],
   "source": [
    "def highlight_min(x):\n",
    "    x_min = x.min()\n",
    "    return [\"font-weight: bold\" if v == x_min else \"\" for v in x]\n",
    "\n",
    "\n",
    "results.style.apply(highlight_min)\n",
    "#Again using BIC criteria , same value of alpha of 0.02801 was choosen, so the model remains the same."
   ]
  },
  {
   "cell_type": "code",
   "execution_count": 43,
   "id": "6e2e89ce",
   "metadata": {},
   "outputs": [],
   "source": [
    "##For second model with 80% training data,finding optimal value of alpha using AIC criterion\n",
    "start_time = time.time()\n",
    "lasso_lars_ic2 = make_pipeline(\n",
    "    StandardScaler(), LassoLarsIC(criterion=\"aic\", normalize=False)\n",
    ").fit(X2_train, y2_train)\n",
    "fit_time = time.time() - start_time\n",
    "results2 = pd.DataFrame(\n",
    "    {\n",
    "        \"alphas\": lasso_lars_ic2[-1].alphas_,\n",
    "        \"AIC criterion\": lasso_lars_ic2[-1].criterion_,\n",
    "    }\n",
    ").set_index(\"alphas\")\n",
    "alpha_aic2 = lasso_lars_ic2[-1].alpha_"
   ]
  },
  {
   "cell_type": "code",
   "execution_count": 44,
   "id": "30896b99",
   "metadata": {},
   "outputs": [
    {
     "data": {
      "text/html": [
       "<div>\n",
       "<style scoped>\n",
       "    .dataframe tbody tr th:only-of-type {\n",
       "        vertical-align: middle;\n",
       "    }\n",
       "\n",
       "    .dataframe tbody tr th {\n",
       "        vertical-align: top;\n",
       "    }\n",
       "\n",
       "    .dataframe thead th {\n",
       "        text-align: right;\n",
       "    }\n",
       "</style>\n",
       "<table border=\"1\" class=\"dataframe\">\n",
       "  <thead>\n",
       "    <tr style=\"text-align: right;\">\n",
       "      <th></th>\n",
       "      <th>AIC criterion</th>\n",
       "    </tr>\n",
       "    <tr>\n",
       "      <th>alphas</th>\n",
       "      <th></th>\n",
       "    </tr>\n",
       "  </thead>\n",
       "  <tbody>\n",
       "    <tr>\n",
       "      <th>6.114131</th>\n",
       "      <td>318.000000</td>\n",
       "    </tr>\n",
       "    <tr>\n",
       "      <th>5.097526</th>\n",
       "      <td>259.875878</td>\n",
       "    </tr>\n",
       "    <tr>\n",
       "      <th>3.347823</th>\n",
       "      <td>177.016217</td>\n",
       "    </tr>\n",
       "    <tr>\n",
       "      <th>2.527067</th>\n",
       "      <td>140.797009</td>\n",
       "    </tr>\n",
       "    <tr>\n",
       "      <th>2.118558</th>\n",
       "      <td>125.001342</td>\n",
       "    </tr>\n",
       "    <tr>\n",
       "      <th>1.770925</th>\n",
       "      <td>111.866299</td>\n",
       "    </tr>\n",
       "    <tr>\n",
       "      <th>0.224409</th>\n",
       "      <td>82.518233</td>\n",
       "    </tr>\n",
       "    <tr>\n",
       "      <th>0.013885</th>\n",
       "      <td>82.663895</td>\n",
       "    </tr>\n",
       "    <tr>\n",
       "      <th>0.000000</th>\n",
       "      <td>83.987654</td>\n",
       "    </tr>\n",
       "  </tbody>\n",
       "</table>\n",
       "</div>"
      ],
      "text/plain": [
       "          AIC criterion\n",
       "alphas                 \n",
       "6.114131     318.000000\n",
       "5.097526     259.875878\n",
       "3.347823     177.016217\n",
       "2.527067     140.797009\n",
       "2.118558     125.001342\n",
       "1.770925     111.866299\n",
       "0.224409      82.518233\n",
       "0.013885      82.663895\n",
       "0.000000      83.987654"
      ]
     },
     "execution_count": 44,
     "metadata": {},
     "output_type": "execute_result"
    }
   ],
   "source": [
    "results2\n"
   ]
  },
  {
   "cell_type": "code",
   "execution_count": 45,
   "id": "ec1df935",
   "metadata": {},
   "outputs": [
    {
     "data": {
      "text/plain": [
       "0.22440908960963285"
      ]
     },
     "execution_count": 45,
     "metadata": {},
     "output_type": "execute_result"
    }
   ],
   "source": [
    "#Selected value of alpha\n",
    "alpha_aic2"
   ]
  },
  {
   "cell_type": "code",
   "execution_count": 46,
   "id": "4debab1f",
   "metadata": {},
   "outputs": [
    {
     "name": "stdout",
     "output_type": "stream",
     "text": [
      "R squared training set 76.68\n",
      "R squared test set 74.05\n"
     ]
    }
   ],
   "source": [
    "#Running Lasso model using  alpha value of of 0.224 ,selected by  AIC criteria for model 2 with 80% training data\n",
    "Model_Q2_80 = Lasso(alpha=0.2244)\n",
    "Model_Q2_80.fit(X2_train, y2_train)\n",
    "print('R squared training set', round(Model_Q2_80.score(X2_train, y2_train)*100, 2))\n",
    "print('R squared test set', round(Model_Q2_80.score(X2_test, y2_test)*100, 2))"
   ]
  },
  {
   "cell_type": "code",
   "execution_count": 47,
   "id": "768c667c",
   "metadata": {},
   "outputs": [],
   "source": [
    "###Finding Optimal value of alpha using BIC criteria for model 2 with 80% training data\n",
    "\n",
    "lasso_lars_ic2.set_params(lassolarsic__criterion=\"bic\").fit(X2_train, y2_train)\n",
    "results2[\"BIC criterion\"] = lasso_lars_ic2[-1].criterion_\n",
    "alpha_bic2 = lasso_lars_ic2[-1].alpha_"
   ]
  },
  {
   "cell_type": "code",
   "execution_count": 48,
   "id": "9f32e475",
   "metadata": {},
   "outputs": [
    {
     "data": {
      "text/html": [
       "<style type=\"text/css\">\n",
       "#T_1c351_row6_col0, #T_1c351_row6_col1 {\n",
       "  font-weight: bold;\n",
       "}\n",
       "</style>\n",
       "<table id=\"T_1c351_\">\n",
       "  <thead>\n",
       "    <tr>\n",
       "      <th class=\"blank level0\" >&nbsp;</th>\n",
       "      <th class=\"col_heading level0 col0\" >AIC criterion</th>\n",
       "      <th class=\"col_heading level0 col1\" >BIC criterion</th>\n",
       "    </tr>\n",
       "    <tr>\n",
       "      <th class=\"index_name level0\" >alphas</th>\n",
       "      <th class=\"blank col0\" >&nbsp;</th>\n",
       "      <th class=\"blank col1\" >&nbsp;</th>\n",
       "    </tr>\n",
       "  </thead>\n",
       "  <tbody>\n",
       "    <tr>\n",
       "      <th id=\"T_1c351_level0_row0\" class=\"row_heading level0 row0\" >6.114130978060713</th>\n",
       "      <td id=\"T_1c351_row0_col0\" class=\"data row0 col0\" >318.000000</td>\n",
       "      <td id=\"T_1c351_row0_col1\" class=\"data row0 col1\" >318.000000</td>\n",
       "    </tr>\n",
       "    <tr>\n",
       "      <th id=\"T_1c351_level0_row1\" class=\"row_heading level0 row1\" >5.097526018467906</th>\n",
       "      <td id=\"T_1c351_row1_col0\" class=\"data row1 col0\" >259.875878</td>\n",
       "      <td id=\"T_1c351_row1_col1\" class=\"data row1 col1\" >263.637930</td>\n",
       "    </tr>\n",
       "    <tr>\n",
       "      <th id=\"T_1c351_level0_row2\" class=\"row_heading level0 row2\" >3.347822677044286</th>\n",
       "      <td id=\"T_1c351_row2_col0\" class=\"data row2 col0\" >177.016217</td>\n",
       "      <td id=\"T_1c351_row2_col1\" class=\"data row2 col1\" >184.540320</td>\n",
       "    </tr>\n",
       "    <tr>\n",
       "      <th id=\"T_1c351_level0_row3\" class=\"row_heading level0 row3\" >2.527066871988853</th>\n",
       "      <td id=\"T_1c351_row3_col0\" class=\"data row3 col0\" >140.797009</td>\n",
       "      <td id=\"T_1c351_row3_col1\" class=\"data row3 col1\" >152.083164</td>\n",
       "    </tr>\n",
       "    <tr>\n",
       "      <th id=\"T_1c351_level0_row4\" class=\"row_heading level0 row4\" >2.118558459362246</th>\n",
       "      <td id=\"T_1c351_row4_col0\" class=\"data row4 col0\" >125.001342</td>\n",
       "      <td id=\"T_1c351_row4_col1\" class=\"data row4 col1\" >140.049548</td>\n",
       "    </tr>\n",
       "    <tr>\n",
       "      <th id=\"T_1c351_level0_row5\" class=\"row_heading level0 row5\" >1.7709248537219773</th>\n",
       "      <td id=\"T_1c351_row5_col0\" class=\"data row5 col0\" >111.866299</td>\n",
       "      <td id=\"T_1c351_row5_col1\" class=\"data row5 col1\" >126.914505</td>\n",
       "    </tr>\n",
       "    <tr>\n",
       "      <th id=\"T_1c351_level0_row6\" class=\"row_heading level0 row6\" >0.22440908960963285</th>\n",
       "      <td id=\"T_1c351_row6_col0\" class=\"data row6 col0\" >82.518233</td>\n",
       "      <td id=\"T_1c351_row6_col1\" class=\"data row6 col1\" >97.566439</td>\n",
       "    </tr>\n",
       "    <tr>\n",
       "      <th id=\"T_1c351_level0_row7\" class=\"row_heading level0 row7\" >0.013884685838618033</th>\n",
       "      <td id=\"T_1c351_row7_col0\" class=\"data row7 col0\" >82.663895</td>\n",
       "      <td id=\"T_1c351_row7_col1\" class=\"data row7 col1\" >101.474151</td>\n",
       "    </tr>\n",
       "    <tr>\n",
       "      <th id=\"T_1c351_level0_row8\" class=\"row_heading level0 row8\" >0.0</th>\n",
       "      <td id=\"T_1c351_row8_col0\" class=\"data row8 col0\" >83.987654</td>\n",
       "      <td id=\"T_1c351_row8_col1\" class=\"data row8 col1\" >106.559962</td>\n",
       "    </tr>\n",
       "  </tbody>\n",
       "</table>\n"
      ],
      "text/plain": [
       "<pandas.io.formats.style.Styler at 0x1d3477807c0>"
      ]
     },
     "execution_count": 48,
     "metadata": {},
     "output_type": "execute_result"
    }
   ],
   "source": [
    "\n",
    "def highlight_min(x):\n",
    "    x_min = x.min()\n",
    "    return [\"font-weight: bold\" if v == x_min else \"\" for v in x]\n",
    "\n",
    "\n",
    "results2.style.apply(highlight_min)"
   ]
  },
  {
   "cell_type": "code",
   "execution_count": 49,
   "id": "fc4155c3",
   "metadata": {},
   "outputs": [
    {
     "data": {
      "image/png": "[encoded data removed]",
      "text/plain": [
       "<Figure size 432x288 with 1 Axes>"
      ]
     },
     "metadata": {},
     "output_type": "display_data"
    }
   ],
   "source": [
    "# It can be seen that from above table Again using BIC criteria , same value of alpha of 0.22440 was choosen. so same model is choosen using BIC criteria as well.\n",
    "ax = results.plot()\n",
    "ax.vlines(\n",
    "    alpha_aic,\n",
    "    results2[\"AIC criterion\"].min(),\n",
    "    results2[\"AIC criterion\"].max(),\n",
    "    label=\"alpha: AIC estimate\",\n",
    "    linestyles=\"--\",\n",
    "    color=\"tab:blue\",\n",
    ")\n",
    "ax.vlines(\n",
    "    alpha_bic,\n",
    "    results2[\"BIC criterion\"].min(),\n",
    "    results2[\"BIC criterion\"].max(),\n",
    "    label=\"alpha: BIC estimate\",\n",
    "    linestyle=\"--\",\n",
    "    color=\"tab:orange\",\n",
    ")\n",
    "ax.set_xlabel(r\"$\\alpha$\")\n",
    "ax.set_ylabel(\"criterion\")\n",
    "ax.set_xscale(\"log\")\n",
    "ax.legend()\n",
    "_ = ax.set_title(\n",
    "    f\"Information-criterion for model selection (training time {fit_time:.2f}s)\"\n",
    ")"
   ]
  },
  {
   "cell_type": "markdown",
   "id": "f888dabb",
   "metadata": {},
   "source": [
    "Interpretation: We can see from both the models the most optimal value of alpha is choosen when the selected alpha through random possible values corresponds to the minimum of the AIC or BIC criterion."
   ]
  },
  {
   "cell_type": "markdown",
   "id": "1b9e8b7d",
   "metadata": {},
   "source": [
    "# Using k-fold Cross validation Linear regression"
   ]
  },
  {
   "cell_type": "code",
   "execution_count": 50,
   "id": "858c18e3",
   "metadata": {},
   "outputs": [
    {
     "data": {
      "text/html": [
       "<style type=\"text/css\">\n",
       "#T_71a74_row4_col1, #T_71a74_row7_col0 {\n",
       "  font-weight: bold;\n",
       "}\n",
       "</style>\n",
       "<table id=\"T_71a74_\">\n",
       "  <thead>\n",
       "    <tr>\n",
       "      <th class=\"blank level0\" >&nbsp;</th>\n",
       "      <th class=\"col_heading level0 col0\" >test_score</th>\n",
       "      <th class=\"col_heading level0 col1\" >train_score</th>\n",
       "    </tr>\n",
       "  </thead>\n",
       "  <tbody>\n",
       "    <tr>\n",
       "      <th id=\"T_71a74_level0_row0\" class=\"row_heading level0 row0\" >0</th>\n",
       "      <td id=\"T_71a74_row0_col0\" class=\"data row0 col0\" >0.898363</td>\n",
       "      <td id=\"T_71a74_row0_col1\" class=\"data row0 col1\" >0.787082</td>\n",
       "    </tr>\n",
       "    <tr>\n",
       "      <th id=\"T_71a74_level0_row1\" class=\"row_heading level0 row1\" >1</th>\n",
       "      <td id=\"T_71a74_row1_col0\" class=\"data row1 col0\" >0.537083</td>\n",
       "      <td id=\"T_71a74_row1_col1\" class=\"data row1 col1\" >0.817315</td>\n",
       "    </tr>\n",
       "    <tr>\n",
       "      <th id=\"T_71a74_level0_row2\" class=\"row_heading level0 row2\" >2</th>\n",
       "      <td id=\"T_71a74_row2_col0\" class=\"data row2 col0\" >0.721780</td>\n",
       "      <td id=\"T_71a74_row2_col1\" class=\"data row2 col1\" >0.816890</td>\n",
       "    </tr>\n",
       "    <tr>\n",
       "      <th id=\"T_71a74_level0_row3\" class=\"row_heading level0 row3\" >3</th>\n",
       "      <td id=\"T_71a74_row3_col0\" class=\"data row3 col0\" >0.770827</td>\n",
       "      <td id=\"T_71a74_row3_col1\" class=\"data row3 col1\" >0.810882</td>\n",
       "    </tr>\n",
       "    <tr>\n",
       "      <th id=\"T_71a74_level0_row4\" class=\"row_heading level0 row4\" >4</th>\n",
       "      <td id=\"T_71a74_row4_col0\" class=\"data row4 col0\" >0.559935</td>\n",
       "      <td id=\"T_71a74_row4_col1\" class=\"data row4 col1\" >0.829935</td>\n",
       "    </tr>\n",
       "    <tr>\n",
       "      <th id=\"T_71a74_level0_row5\" class=\"row_heading level0 row5\" >5</th>\n",
       "      <td id=\"T_71a74_row5_col0\" class=\"data row5 col0\" >0.656973</td>\n",
       "      <td id=\"T_71a74_row5_col1\" class=\"data row5 col1\" >0.815693</td>\n",
       "    </tr>\n",
       "    <tr>\n",
       "      <th id=\"T_71a74_level0_row6\" class=\"row_heading level0 row6\" >6</th>\n",
       "      <td id=\"T_71a74_row6_col0\" class=\"data row6 col0\" >0.688931</td>\n",
       "      <td id=\"T_71a74_row6_col1\" class=\"data row6 col1\" >0.814275</td>\n",
       "    </tr>\n",
       "    <tr>\n",
       "      <th id=\"T_71a74_level0_row7\" class=\"row_heading level0 row7\" >7</th>\n",
       "      <td id=\"T_71a74_row7_col0\" class=\"data row7 col0\" >0.935074</td>\n",
       "      <td id=\"T_71a74_row7_col1\" class=\"data row7 col1\" >0.792764</td>\n",
       "    </tr>\n",
       "    <tr>\n",
       "      <th id=\"T_71a74_level0_row8\" class=\"row_heading level0 row8\" >8</th>\n",
       "      <td id=\"T_71a74_row8_col0\" class=\"data row8 col0\" >0.197822</td>\n",
       "      <td id=\"T_71a74_row8_col1\" class=\"data row8 col1\" >0.818889</td>\n",
       "    </tr>\n",
       "    <tr>\n",
       "      <th id=\"T_71a74_level0_row9\" class=\"row_heading level0 row9\" >9</th>\n",
       "      <td id=\"T_71a74_row9_col0\" class=\"data row9 col0\" >0.743289</td>\n",
       "      <td id=\"T_71a74_row9_col1\" class=\"data row9 col1\" >0.809396</td>\n",
       "    </tr>\n",
       "  </tbody>\n",
       "</table>\n"
      ],
      "text/plain": [
       "<pandas.io.formats.style.Styler at 0x1d345e95ca0>"
      ]
     },
     "execution_count": 50,
     "metadata": {},
     "output_type": "execute_result"
    }
   ],
   "source": [
    " Using 10-fold cross validation\n",
    "\n",
    "from sklearn.model_selection import cross_validate\n",
    "\n",
    "### Cross Valiation Regression\n",
    "cross_validataion = cross_validate(LinearRegression(), X_train, y_train, cv=10,\n",
    "                            scoring=('r2'), return_train_score=True)\n",
    "\n",
    "### 10 fold result\n",
    "cross_validataion = pd.DataFrame.from_dict(cross_validataion)\n",
    "###Highlighting max R-squared values in both test and train data\n",
    "def highlight_min(x):\n",
    "    x_min = x.max()\n",
    "    return [\"font-weight: bold\" if v == x_min else \"\" for v in x]\n",
    "\n",
    "cross_validataion.iloc[:,2:].style.apply(highlight_min)\n",
    "\n",
    "###Interpretation: It can be seen from the results below ,the test R-square is most of the times less than the train R-squared which is usually expected, but the difference is not that huge so no signs of overfitting is there. "
   ]
  },
  {
   "cell_type": "markdown",
   "id": "47a8d301",
   "metadata": {},
   "source": [
    "# Comparing AIC,BIC, AICc scores for all the models"
   ]
  },
  {
   "cell_type": "code",
   "execution_count": 51,
   "id": "7ceb66d4",
   "metadata": {},
   "outputs": [
    {
     "name": "stdout",
     "output_type": "stream",
     "text": [
      "AIC for Model 1 with 20% train data : 513.7782814998789\n",
      "AICC for Model1 with 20% train data  : 514.0654609870583\n",
      "BIC for Model 1 with 20% train data  : 517.9774630043946\n"
     ]
    }
   ],
   "source": [
    "\n",
    "\n",
    "###Calculating AIC,BIC,AICc for  Model 1 trained with 20% training data\n",
    "##Predicting on full data set(X,y)\n",
    "import math\n",
    "y_pred=Model_20_Q1.predict(X)\n",
    "sse = sum((y-y_pred)**2)\n",
    "N=X.shape[0]\n",
    "k=X.shape[1]+1\n",
    "## AIC\n",
    "Model_20_AIC = N*math.log(sse/N,10) + 2*k\n",
    "print(\"AIC for Model 1 with 20% train data : \" + str(Model_20_AIC))\n",
    "\n",
    "### AICC\n",
    "Model_20_AICc = N*math.log(sse/N,10) + 2*N*k/(N-k-1)\n",
    "print(\"AICC for Model1 with 20% train data  : \" + str(Model_20_AICc))\n",
    "\n",
    "### BIC\n",
    "Model_20_BIC = N*math.log(sse/N,10) + k*math.log(N,10)\n",
    "print(\"BIC for Model 1 with 20% train data  : \" + str(Model_20_BIC))"
   ]
  },
  {
   "cell_type": "code",
   "execution_count": 52,
   "id": "063c0697",
   "metadata": {},
   "outputs": [
    {
     "name": "stdout",
     "output_type": "stream",
     "text": [
      "AIC for Model with 80% train data : 505.0505983771084\n",
      "AICC for Model with 80% train data  : 505.3377778642879\n",
      "BIC for Model with 80% train data  : 509.2497798816242\n"
     ]
    }
   ],
   "source": [
    "###Calculating AIC,BIC,AICc for  Model 2 trained with 80% training data\n",
    "##Predicting on full data set(X,y)\n",
    "y_pred=Model_80_Q1.predict(X)\n",
    "sse = sum((y-y_pred)**2)\n",
    "N=X.shape[0]\n",
    "k=X.shape[1]+1\n",
    "## AIC\n",
    "Model_80_AIC = N*math.log(sse/N,10) + 2*k\n",
    "print(\"AIC for Model with 80% train data : \" + str(Model_80_AIC))\n",
    "\n",
    "### AICC\n",
    "Model_80_AICc = N*math.log(sse/N,10) + 2*N*k/(N-k-1)\n",
    "print(\"AICC for Model with 80% train data  : \" + str(Model_80_AICc))\n",
    "\n",
    "### BIC\n",
    "Model_80_BIC = N*math.log(sse/N,10) + k*math.log(N,10)\n",
    "print(\"BIC for Model with 80% train data  : \" + str(Model_80_BIC))"
   ]
  },
  {
   "cell_type": "code",
   "execution_count": 53,
   "id": "3b530d5e",
   "metadata": {},
   "outputs": [
    {
     "name": "stdout",
     "output_type": "stream",
     "text": [
      "AIC for Model with 20% train data with optimal alpha : 485.9184231285947\n",
      "AICC for Model with 20% train data  with optimal alpha  : 486.20560261577424\n",
      "BIC for Model with 20% train data  with optimal alpha  : 490.11760463311055\n"
     ]
    }
   ],
   "source": [
    "###Calculating AIC,BIC,AICc for  Model 1 trainned with 20% training data\n",
    "##Predicting on full data set(X,y)\n",
    "y_pred=Model_Q2_20.predict(X)\n",
    "sse = sum((y-y_pred)**2)\n",
    "N=X.shape[0]\n",
    "k=X.shape[1]+1\n",
    "## AIC\n",
    "Model_20_AIC = N*math.log(sse/N,10) + 2*k\n",
    "print(\"AIC for Model with 20% train data with optimal alpha : \" + str(Model_20_AIC))\n",
    "\n",
    "### AICC\n",
    "Model_20_AICc = N*math.log(sse/N,10) + 2*N*k/(N-k-1)\n",
    "print(\"AICC for Model with 20% train data  with optimal alpha  : \" + str(Model_20_AICc))\n",
    "\n",
    "### BIC\n",
    "Model_20_BIC = N*math.log(sse/N,10) + k*math.log(N,10)\n",
    "print(\"BIC for Model with 20% train data  with optimal alpha  : \" + str(Model_20_BIC))\n"
   ]
  },
  {
   "cell_type": "code",
   "execution_count": 54,
   "id": "b2f3276c",
   "metadata": {},
   "outputs": [
    {
     "name": "stdout",
     "output_type": "stream",
     "text": [
      "AIC for Model with 80% train data with optimal alpha: 476.7597277554207\n",
      "AICC for Model with 80% train data with optimal alpha  : 477.04690724260024\n",
      "BIC for Model with 80% train data with optimal alpha : 480.95890925993655\n"
     ]
    }
   ],
   "source": [
    "\n",
    "###Calculating AIC,BIC,AICc for  Model2 trained with 80% training data\n",
    "##Predicting on full data set(X,y)\n",
    "y_pred=Model_Q2_80.predict(X)\n",
    "sse = sum((y-y_pred)**2)\n",
    "N=X.shape[0]\n",
    "k=X.shape[1]+1\n",
    "## AIC\n",
    "Model_80_AIC = N*math.log(sse/N,10) + 2*k\n",
    "print(\"AIC for Model with 80% train data with optimal alpha: \" + str(Model_80_AIC))\n",
    "\n",
    "### AICC\n",
    "Model_80_AICc = N*math.log(sse/N,10) + 2*N*k/(N-k-1)\n",
    "print(\"AICC for Model with 80% train data with optimal alpha  : \" + str(Model_80_AICc))\n",
    "\n",
    "### BIC\n",
    "Model_80_BIC = N*math.log(sse/N,10) + k*math.log(N,10)\n",
    "print(\"BIC for Model with 80% train data with optimal alpha : \" + str(Model_80_BIC))"
   ]
  },
  {
   "cell_type": "markdown",
   "id": "f0390e5e",
   "metadata": {},
   "source": [
    "# Interpretations"
   ]
  },
  {
   "cell_type": "markdown",
   "id": "79d68919",
   "metadata": {},
   "source": [
    "\n",
    "1. As it can be seen that Lasso Model  with optimal aplha  trained 80% training data has the least AIC,BIC scores among all four models above therefore it is the best model among all the models.\n",
    "\n",
    "\n",
    "\n",
    "2. From the above results ,we can see that AICc gives better correction cuttoff and is marginally higher than AIC. When the number of observations is large the Akaike Information Criterion (AIC) and the small-sample corrected Akaike Information Criterion (AICc) become extremely similar because AICc converges to AIC.AICc is usuually greater  With increase in data points the AIC and AICC tend to get closer. Therefore ,AICc (second-order AIC) is advocated when sample size is relatively low."
   ]
  }
 ],
 "metadata": {
  "kernelspec": {
   "display_name": "Python 3 (ipykernel)",
   "language": "python",
   "name": "python3"
  },
  "language_info": {
   "codemirror_mode": {
    "name": "ipython",
    "version": 3
   },
   "file_extension": ".py",
   "mimetype": "text/x-python",
   "name": "python",
   "nbconvert_exporter": "python",
   "pygments_lexer": "ipython3",
   "version": "3.9.7"
  }
 },
 "nbformat": 4,
 "nbformat_minor": 5
}
